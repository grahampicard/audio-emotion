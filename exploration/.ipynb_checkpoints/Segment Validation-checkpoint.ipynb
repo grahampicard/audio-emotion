{
 "cells": [
  {
   "cell_type": "markdown",
   "metadata": {},
   "source": [
    "Imports"
   ]
  },
  {
   "cell_type": "code",
   "execution_count": 1,
   "metadata": {},
   "outputs": [],
   "source": [
    "import librosa\n",
    "import os\n",
    "import pandas as pd\n",
    "import subprocess"
   ]
  },
  {
   "cell_type": "markdown",
   "metadata": {},
   "source": [
    "# Annotation Files\n",
    "Load segment files to find timestamps"
   ]
  },
  {
   "cell_type": "code",
   "execution_count": 2,
   "metadata": {},
   "outputs": [],
   "source": [
    "def load_file(parent_dir, file_name):\n",
    "    df = pd.read_csv(os.path.join(parent_dir, file_name))\n",
    "    df['source'] = file_name.replace('.csv', '')\n",
    "    return df"
   ]
  },
  {
   "cell_type": "markdown",
   "metadata": {},
   "source": [
    "Let's find the start/end times"
   ]
  },
  {
   "cell_type": "code",
   "execution_count": 3,
   "metadata": {},
   "outputs": [],
   "source": [
    "annot_path = '../data/raw/SegLabelHard/SegLabelHard'\n",
    "annot_names = os.listdir(annot_path)\n",
    "annotations = pd.concat([load_file(annot_path, f) for f in annot_names])\n",
    "start_end = annotations.groupby('source').agg({'Start_Time': min, 'End_Time': max})"
   ]
  },
  {
   "cell_type": "markdown",
   "metadata": {},
   "source": [
    "# MP3 files"
   ]
  },
  {
   "cell_type": "code",
   "execution_count": 4,
   "metadata": {},
   "outputs": [],
   "source": [
    "def duration(mp3_path, mp3_name):\n",
    "    args=(\"ffprobe\",\"-show_entries\", \"format=duration\",\"-i\",\n",
    "          os.path.join(mp3_path, mp3_name))\n",
    "    popen = subprocess.Popen(args, stdout = subprocess.PIPE)\n",
    "    popen.wait()\n",
    "    output = popen.stdout.read()\n",
    "    _, length = output.decode().split('\\r\\n')[1].split('=')\n",
    "    return (mp3_name.replace('.mp3', ''), float(length))"
   ]
  },
  {
   "cell_type": "code",
   "execution_count": 5,
   "metadata": {
    "scrolled": true
   },
   "outputs": [],
   "source": [
    "mp3_path = '../data/raw/CAL500_32kps/'\n",
    "mp3_names = os.listdir(mp3_path)\n",
    "\n",
    "durations = [duration(mp3_path, f) for f in mp3_names]\n",
    "song_durations = pd.DataFrame(durations, columns=['source', 'mp3_length'])\n",
    "song_durations = song_durations.set_index('source')"
   ]
  },
  {
   "cell_type": "markdown",
   "metadata": {},
   "source": [
    "# Comparison"
   ]
  },
  {
   "cell_type": "code",
   "execution_count": 7,
   "metadata": {},
   "outputs": [],
   "source": [
    "merged = start_end.merge(song_durations, left_index=True, right_index=True)\n",
    "merged = merged[(merged.End_Time <= merged.mp3_length)]\n",
    "merged['full_duration'] = merged['End_Time'] - merged['Start_Time']\n",
    "merged = merged[['full_duration']]"
   ]
  },
  {
   "cell_type": "markdown",
   "metadata": {},
   "source": [
    "Segments"
   ]
  },
  {
   "cell_type": "code",
   "execution_count": 8,
   "metadata": {},
   "outputs": [],
   "source": [
    "segments = (annotations.set_index('source')[['Start_Time', 'End_Time']]\n",
    "                       .merge(merged, left_index=True, right_index=True))\n",
    "segments['segment_duration'] = segments['End_Time'] - segments['Start_Time']\n",
    "segments = segments.reset_index().sort_values(['source', 'Start_Time'])\n",
    "segments['order'] = segments.groupby('source').cumcount()"
   ]
  },
  {
   "cell_type": "markdown",
   "metadata": {},
   "source": [
    "Output"
   ]
  },
  {
   "cell_type": "code",
   "execution_count": 29,
   "metadata": {},
   "outputs": [],
   "source": [
    "cols = [\"source\",\"Start_Time\",\"End_Time\",\"full_duration\",\"segment_duration\", \"order\"]\n",
    "segments[cols].to_csv('./../data/raw/song_segment_times.csv', index=False)"
   ]
  }
 ],
 "metadata": {
  "kernelspec": {
   "display_name": "Python 3",
   "language": "python",
   "name": "python3"
  },
  "language_info": {
   "codemirror_mode": {
    "name": "ipython",
    "version": 3
   },
   "file_extension": ".py",
   "mimetype": "text/x-python",
   "name": "python",
   "nbconvert_exporter": "python",
   "pygments_lexer": "ipython3",
   "version": "3.7.3"
  }
 },
 "nbformat": 4,
 "nbformat_minor": 2
}
