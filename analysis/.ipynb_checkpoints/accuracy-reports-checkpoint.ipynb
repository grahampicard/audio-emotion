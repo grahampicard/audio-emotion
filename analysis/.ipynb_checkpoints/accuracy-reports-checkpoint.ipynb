{
 "cells": [
  {
   "cell_type": "code",
   "execution_count": 128,
   "metadata": {},
   "outputs": [],
   "source": [
    "import os\n",
    "import numpy as np\n",
    "import pandas as pd\n",
    "import seaborn as sns"
   ]
  },
  {
   "cell_type": "code",
   "execution_count": 2,
   "metadata": {},
   "outputs": [],
   "source": [
    "df = pd.read_csv('./../data/interim/expanded-3secondsegments/labels/hard-labels.csv')\n",
    "melt = pd.melt(df, id_vars=['source', 'index'])\n",
    "\n",
    "grouped = melt.groupby('variable')[['value']].agg([np.sum, np.mean])\n",
    "grouped.columns = '# Segments', '% of Segments'\n",
    "grouped.to_csv('sgement-summary-table.csv')"
   ]
  },
  {
   "cell_type": "markdown",
   "metadata": {},
   "source": [
    "# Compiling confusion matrices"
   ]
  },
  {
   "cell_type": "code",
   "execution_count": 3,
   "metadata": {},
   "outputs": [],
   "source": [
    "models = os.listdir('./../data/processed')\n",
    "results = []\n",
    "\n",
    "# get multilabel models\n",
    "chroma = pd.read_csv('./../data/processed/chroma/cnn-simple-3s_32k-test-confusion.csv')\n",
    "mfcc = pd.read_csv('./../data/processed/mfcc/cnn-simple-3s_32k-test-confusion.csv')\n",
    "logmel = pd.read_csv('./../data/processed/logmel/cnn-simple-3s_32k-test-confusion.csv')\n",
    "stft = pd.read_csv('./../data/processed/stft/cnn-simple-3s_32k-test-confusion.csv')\n",
    "\n",
    "# get records\n",
    "curdir = f'./../data/processed/stft-binary-pairs'\n",
    "record = [pd.read_csv(f'{curdir}/{x}') for x in os.listdir(curdir) if 'confusion.csv' in x]\n",
    "\n",
    "# merge data\n",
    "pt1 = stft.merge(logmel, on=['emotion', 'tf'], suffixes=('_stft', '_logmel'))\n",
    "pt2 = chroma.merge(mfcc, on=['emotion', 'tf'], suffixes=('_chroma', '_mfcc'))\n",
    "combined = pt1.merge(pt2)"
   ]
  },
  {
   "cell_type": "markdown",
   "metadata": {},
   "source": [
    "# Combining and adding labels"
   ]
  },
  {
   "cell_type": "code",
   "execution_count": 100,
   "metadata": {},
   "outputs": [],
   "source": [
    "names = pd.read_csv('emotion-lookup.csv')\n",
    "analysis_df = names.merge(combined)\n",
    "analysis_df = analysis_df.melt(id_vars=analysis_df.columns[:3].tolist())\n",
    "analysis_df[['variable', 'model']] = analysis_df['variable'].str.split('_', expand=True)\n",
    "analysis_df['true'] = analysis_df['tf'].astype(int) == analysis_df['variable'].astype(int)\n",
    "accuracy_df = analysis_df.groupby(['emotion', 'name', 'true', 'model'])['value'].sum().unstack('true')\n",
    "accuracy_df['correct'] = accuracy_df[True] / (accuracy_df[True] + accuracy_df[False])\n"
   ]
  },
  {
   "cell_type": "markdown",
   "metadata": {},
   "source": [
    "Add a flag for those that don't discriminate"
   ]
  },
  {
   "cell_type": "code",
   "execution_count": 101,
   "metadata": {},
   "outputs": [],
   "source": [
    "no_disc = combined.groupby(['emotion', 'tf']).sum().reset_index().melt(id_vars=['emotion', 'tf'])\n",
    "no_disc[['variable', 'model']] = no_disc.variable.str.split('_', expand=True)\n",
    "no_disc = no_disc[no_disc.value == 0][['emotion', 'model']].drop_duplicates().assign(mle=1)"
   ]
  },
  {
   "cell_type": "markdown",
   "metadata": {},
   "source": [
    "Combine to new results"
   ]
  },
  {
   "cell_type": "code",
   "execution_count": 102,
   "metadata": {},
   "outputs": [],
   "source": [
    "new_results = results.reset_index().merge(no_disc, how='left')\n",
    "new_results = new_results.fillna(0)\n",
    "\n",
    "disc = new_results[new_results.mle==0]"
   ]
  },
  {
   "cell_type": "code",
   "execution_count": 125,
   "metadata": {},
   "outputs": [],
   "source": [
    "newdf = analysis_df.merge(disc)\n",
    "newdf = newdf[newdf.tf==1]\n",
    "newdf = newdf[newdf.true == True]"
   ]
  },
  {
   "cell_type": "code",
   "execution_count": 175,
   "metadata": {},
   "outputs": [],
   "source": [
    "df = grouped[['# Segments']].merge(newdf[['name', 'correct', 'model']].set_index('name'), left_index=True, right_index=True)"
   ]
  },
  {
   "cell_type": "code",
   "execution_count": 180,
   "metadata": {
    "scrolled": true
   },
   "outputs": [
    {
     "data": {
      "image/png": "[encoded data removed]",
      "text/plain": [
       "<Figure size 1080x360 with 4 Axes>"
      ]
     },
     "metadata": {
      "needs_background": "light"
     },
     "output_type": "display_data"
    }
   ],
   "source": [
    "fig, axs = plt.subplots(1, 4, figsize=(15,5))\n",
    "\n",
    "for i, (name, data) in enumerate(df.groupby('model')):\n",
    "\n",
    "    data.plot(x='# Segments', y='correct', kind='scatter', ax=axs[i])\n",
    "    axs[i].set_title(name)\n",
    "    axs[i].set_xlim(0,3000)\n",
    "    axs[i].set_ylim(0,1)\n",
    "\n",
    "plt.tight_layout()\n",
    "plt.savefig(\"accuracy-by-data.png\")"
   ]
  },
  {
   "cell_type": "code",
   "execution_count": null,
   "metadata": {},
   "outputs": [],
   "source": []
  },
  {
   "cell_type": "code",
   "execution_count": 203,
   "metadata": {},
   "outputs": [
    {
     "data": {
      "text/plain": [
       "(array([ 6.,  9., 12.,  7.,  9., 10.,  4.,  7.,  4.,  4.]),\n",
       " array([0.59425494, 0.63037312, 0.66649129, 0.70260947, 0.73872765,\n",
       "        0.77484583, 0.81096401, 0.84708219, 0.88320036, 0.91931854,\n",
       "        0.95543672]),\n",
       " <a list of 10 Patch objects>)"
      ]
     },
     "execution_count": 203,
     "metadata": {},
     "output_type": "execute_result"
    },
    {
     "data": {
      "image/png": "[encoded data removed]",
      "text/plain": [
       "<Figure size 432x288 with 1 Axes>"
      ]
     },
     "metadata": {
      "needs_background": "light"
     },
     "output_type": "display_data"
    }
   ],
   "source": [
    "plt.hist(accuracy_df.unstack('model')['correct'].to_numpy().reshape(-1))"
   ]
  },
  {
   "cell_type": "code",
   "execution_count": 205,
   "metadata": {},
   "outputs": [
    {
     "data": {
      "image/png": "[encoded data removed]",
      "text/plain": [
       "<Figure size 432x288 with 1 Axes>"
      ]
     },
     "metadata": {
      "needs_background": "light"
     },
     "output_type": "display_data"
    }
   ],
   "source": [
    "plt.hist(accuracy_df.unstack('model')['correct'].to_numpy().reshape(-1))\n",
    "plt.title(\"Histogram of Accuracy Rates\")\n",
    "plt.savefig(\"hist-accuracy.png\")"
   ]
  }
 ],
 "metadata": {
  "kernelspec": {
   "display_name": "Python 3",
   "language": "python",
   "name": "python3"
  },
  "language_info": {
   "codemirror_mode": {
    "name": "ipython",
    "version": 3
   },
   "file_extension": ".py",
   "mimetype": "text/x-python",
   "name": "python",
   "nbconvert_exporter": "python",
   "pygments_lexer": "ipython3",
   "version": "3.7.3"
  }
 },
 "nbformat": 4,
 "nbformat_minor": 2
}
