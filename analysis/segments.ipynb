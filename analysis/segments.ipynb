{
 "cells": [
  {
   "cell_type": "markdown",
   "metadata": {},
   "source": [
    "Let's put together a summary table to show how many songs belong to each type of emotion"
   ]
  },
  {
   "cell_type": "code",
   "execution_count": 1,
   "metadata": {},
   "outputs": [],
   "source": [
    "import numpy as np\n",
    "import pandas as pd\n",
    "\n",
    "\n",
    "df = pd.read_csv('./../data/interim/expanded-3secondsegments/labels/hard-labels.csv')\n",
    "melt = pd.melt(df, id_vars=['source', 'index'])\n",
    "\n",
    "\n",
    "grouped = melt.groupby('variable')[['value']].agg([np.sum, np.mean])\n",
    "grouped.columns = '# Segments', '% of Segments'\n",
    "grouped.to_csv('sgement-summary-table.csv')"
   ]
  }
 ],
 "metadata": {
  "language_info": {
   "codemirror_mode": {
    "name": "ipython",
    "version": 3
   },
   "file_extension": ".py",
   "mimetype": "text/x-python",
   "name": "python",
   "nbconvert_exporter": "python",
   "pygments_lexer": "ipython3",
   "version": 3
  },
  "orig_nbformat": 2,
  "kernelspec": {
   "name": "python_defaultSpec_1597160614760",
   "display_name": "Python 3.7.3 64-bit ('base': conda)"
  }
 },
 "nbformat": 4,
 "nbformat_minor": 2
}